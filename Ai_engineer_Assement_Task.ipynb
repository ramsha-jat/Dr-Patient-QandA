{
  "cells": [
    {
      "cell_type": "code",
      "execution_count": null,
      "metadata": {
        "colab": {
          "base_uri": "https://localhost:8080/"
        },
        "id": "eE8TwAcjKPJ6",
        "outputId": "1dc07761-8fbf-4a6a-b8a3-e3bbbc04384c"
      },
      "outputs": [
        {
          "name": "stdout",
          "output_type": "stream",
          "text": [
            "Requirement already satisfied: transformers in /usr/local/lib/python3.10/dist-packages (4.42.4)\n",
            "Requirement already satisfied: filelock in /usr/local/lib/python3.10/dist-packages (from transformers) (3.15.4)\n",
            "Requirement already satisfied: huggingface-hub<1.0,>=0.23.2 in /usr/local/lib/python3.10/dist-packages (from transformers) (0.23.5)\n",
            "Requirement already satisfied: numpy<2.0,>=1.17 in /usr/local/lib/python3.10/dist-packages (from transformers) (1.26.4)\n",
            "Requirement already satisfied: packaging>=20.0 in /usr/local/lib/python3.10/dist-packages (from transformers) (24.1)\n",
            "Requirement already satisfied: pyyaml>=5.1 in /usr/local/lib/python3.10/dist-packages (from transformers) (6.0.1)\n",
            "Requirement already satisfied: regex!=2019.12.17 in /usr/local/lib/python3.10/dist-packages (from transformers) (2024.5.15)\n",
            "Requirement already satisfied: requests in /usr/local/lib/python3.10/dist-packages (from transformers) (2.31.0)\n",
            "Requirement already satisfied: safetensors>=0.4.1 in /usr/local/lib/python3.10/dist-packages (from transformers) (0.4.3)\n",
            "Requirement already satisfied: tokenizers<0.20,>=0.19 in /usr/local/lib/python3.10/dist-packages (from transformers) (0.19.1)\n",
            "Requirement already satisfied: tqdm>=4.27 in /usr/local/lib/python3.10/dist-packages (from transformers) (4.66.4)\n",
            "Requirement already satisfied: fsspec>=2023.5.0 in /usr/local/lib/python3.10/dist-packages (from huggingface-hub<1.0,>=0.23.2->transformers) (2024.6.1)\n",
            "Requirement already satisfied: typing-extensions>=3.7.4.3 in /usr/local/lib/python3.10/dist-packages (from huggingface-hub<1.0,>=0.23.2->transformers) (4.12.2)\n",
            "Requirement already satisfied: charset-normalizer<4,>=2 in /usr/local/lib/python3.10/dist-packages (from requests->transformers) (3.3.2)\n",
            "Requirement already satisfied: idna<4,>=2.5 in /usr/local/lib/python3.10/dist-packages (from requests->transformers) (3.7)\n",
            "Requirement already satisfied: urllib3<3,>=1.21.1 in /usr/local/lib/python3.10/dist-packages (from requests->transformers) (2.0.7)\n",
            "Requirement already satisfied: certifi>=2017.4.17 in /usr/local/lib/python3.10/dist-packages (from requests->transformers) (2024.7.4)\n"
          ]
        }
      ],
      "source": [
        "pip install transformers"
      ]
    },
    {
      "cell_type": "markdown",
      "metadata": {
        "id": "Ci6_i97_PmtX"
      },
      "source": [
        "Here I am using bert pretrained model in the context of given text to create a QandA pipe to anwer the question from conversation.Firstly i have installed trasformer library then importing the Bert tokenizer to tokenize text transcript and pretrained model.Secondly , I am using this pipe line to retrun the answer embbeding . In the final step I am converting to neumerical embeeding to text to make it readble and understandable.In the end all answers are printed to consloe along with questions."
      ]
    },
    {
      "cell_type": "code",
      "execution_count": null,
      "metadata": {
        "colab": {
          "base_uri": "https://localhost:8080/"
        },
        "id": "wZWkFCTdkegn",
        "outputId": "dbeb790f-2be1-4030-dcfa-2e5209bfd82b"
      },
      "outputs": [
        {
          "name": "stdout",
          "output_type": "stream",
          "text": [
            "Question: What is the patient’s illness?\n",
            "Answer: very anxious and stressed\n",
            "\n",
            "Question: What did the doctor diagnose?\n",
            "Answer: generalized anxiety disorder\n",
            "\n",
            "Question: What medicine did the doctor mention?\n",
            "Answer: cognitive - behavioral therapy\n",
            "\n",
            "Question: What is the duration of the medicine?\n",
            "Answer: a few weeks\n",
            "\n",
            "Question: Are there any precautions?\n",
            "Answer: avoid caffeine and alcohol\n",
            "\n",
            "Question: Is there any activity recommended?\n",
            "Answer: walking or yoga\n",
            "\n"
          ]
        }
      ],
      "source": [
        "import torch\n",
        "from transformers import BertTokenizer, BertForQuestionAnswering\n",
        "import logging\n",
        "logging.disable(logging.WARNING)\n",
        "\n",
        "#using bert pretrained for QandA\n",
        "model_name = \"bert-large-uncased-whole-word-masking-finetuned-squad\"\n",
        "tokenizer = BertTokenizer.from_pretrained(model_name)\n",
        "model = BertForQuestionAnswering.from_pretrained(model_name)\n",
        "\n",
        "\n",
        "#transcript of conversation as provided\n",
        "transcript = \"\"\"\n",
        "Doctor (D): Good morning, how are you feeling today?\n",
        "Patient (P): Good morning, Doctor. I've been feeling very anxious and stressed lately.\n",
        "D: I'm sorry to hear that. Can you describe your symptoms in more detail?\n",
        "P: I've been having trouble sleeping, my heart races for no reason, and I often feel like I'm on edge. I also feel exhausted all the time.\n",
        "D: It sounds like you might be experiencing symptoms of Generalized Anxiety Disorder (GAD). Have you experienced these symptoms before?\n",
        "P: Yes, I've had anxiety for a few years, but it's gotten worse recently.\n",
        "D: I understand. Based on your symptoms and history, I'm diagnosing you with Generalized Anxiety Disorder. We'll need to address this with a combination of medication, therapy, and lifestyle changes. Does that sound okay to you?\n",
        "P: Yes, I just want to feel better.\n",
        "D: For medication, I'm going to prescribe you an SSRI (Selective Serotonin Reuptake Inhibitor) called Sertraline. This should help manage your anxiety symptoms. It's important to take it as prescribed and be patient, as it may take a few weeks to see the full effects.\n",
        "P: Okay, I can do that.\n",
        "D: In addition to the medication, I'd like you to try some cognitive-behavioral therapy (CBT). This type of therapy can help you identify and change negative thought patterns and behaviors. I'll refer you to a therapist who specializes in CBT.\n",
        "P: That sounds helpful. I've heard of CBT before.\n",
        "D: Great. Now, let's talk about some exercises and lifestyle changes. Regular physical exercise can be very beneficial for reducing anxiety. Aim for at least 30 minutes of moderate exercise, like walking or yoga, most days of the week.\n",
        "P: I can try to incorporate that into my routine.\n",
        "D: Good. Also, practicing mindfulness or meditation daily can help reduce stress. There are many apps and online resources that can guide you through these practices.\n",
        "P: I've never tried meditation, but I'm willing to give it a go.\n",
        "D: Excellent. Finally, let's discuss some precautions. Avoid caffeine and alcohol as they can worsen anxiety symptoms. Make sure to get enough sleep, and try to maintain a regular sleep schedule.\n",
        "P: I do drink a lot of coffee. I'll try to cut back.\n",
        "D: It's all about making small, sustainable changes. We will monitor your progress closely and adjust the treatment plan as needed. Do you have any questions or concerns?\n",
        "P: Not at the moment. Thank you, Doctor.\n",
        "D: You're welcome. Remember, you're not alone in this, and we're here to support you. I'll see you in two weeks for a follow-up.\n",
        "P: Thank you, Doctor. I appreciate it.\n",
        "\"\"\"\n",
        "\n",
        "def answer_question(question, context, max_length=512):\n",
        "\n",
        "    inputs = tokenizer.encode_plus(\n",
        "        question,\n",
        "        context,\n",
        "        add_special_tokens=True,\n",
        "        return_tensors=\"pt\",\n",
        "        max_length=max_length,\n",
        "        truncation=True\n",
        "    )\n",
        "\n",
        "    input_ids = inputs[\"input_ids\"].tolist()[0]\n",
        "\n",
        "    text_tokens = tokenizer.convert_ids_to_tokens(input_ids)\n",
        "    answer_start_scores, answer_end_scores = model(**inputs,return_dict=False)\n",
        "    answer_start = torch.argmax(answer_start_scores)\n",
        "    answer_end = torch.argmax(answer_end_scores) + 1\n",
        "\n",
        "    answer = tokenizer.convert_tokens_to_string(tokenizer.convert_ids_to_tokens(input_ids[answer_start:answer_end]))\n",
        "    return answer\n",
        "\n",
        "#questions provided\n",
        "questions = [\n",
        "    \"What is the patient’s illness?\",\n",
        "    \"What did the doctor diagnose?\",\n",
        "    \"What medicine did the doctor mention?\",\n",
        "    \"What is the duration of the medicine?\",\n",
        "    \"Are there any precautions?\",\n",
        "    \"Is there any activity recommended?\"\n",
        "]\n",
        "\n",
        "# Answering the questions\n",
        "for question in questions:\n",
        "    print(f\"Question: {question}\")\n",
        "    answer = answer_question(question, transcript)\n",
        "    print(f\"Answer: {answer}\\n\")\n"
      ]
    },
    {
      "cell_type": "code",
      "execution_count": null,
      "metadata": {
        "colab": {
          "base_uri": "https://localhost:8080/"
        },
        "id": "zauQkSpSAvuB",
        "outputId": "427e54b8-d187-476b-c502-b3a4defc7039"
      },
      "outputs": [
        {
          "name": "stdout",
          "output_type": "stream",
          "text": [
            "Collecting openai\n",
            "  Downloading openai-1.38.0-py3-none-any.whl.metadata (22 kB)\n",
            "Requirement already satisfied: anyio<5,>=3.5.0 in /usr/local/lib/python3.10/dist-packages (from openai) (3.7.1)\n",
            "Requirement already satisfied: distro<2,>=1.7.0 in /usr/lib/python3/dist-packages (from openai) (1.7.0)\n",
            "Collecting httpx<1,>=0.23.0 (from openai)\n",
            "  Downloading httpx-0.27.0-py3-none-any.whl.metadata (7.2 kB)\n",
            "Requirement already satisfied: pydantic<3,>=1.9.0 in /usr/local/lib/python3.10/dist-packages (from openai) (2.8.2)\n",
            "Requirement already satisfied: sniffio in /usr/local/lib/python3.10/dist-packages (from openai) (1.3.1)\n",
            "Requirement already satisfied: tqdm>4 in /usr/local/lib/python3.10/dist-packages (from openai) (4.66.4)\n",
            "Requirement already satisfied: typing-extensions<5,>=4.7 in /usr/local/lib/python3.10/dist-packages (from openai) (4.12.2)\n",
            "Requirement already satisfied: idna>=2.8 in /usr/local/lib/python3.10/dist-packages (from anyio<5,>=3.5.0->openai) (3.7)\n",
            "Requirement already satisfied: exceptiongroup in /usr/local/lib/python3.10/dist-packages (from anyio<5,>=3.5.0->openai) (1.2.2)\n",
            "Requirement already satisfied: certifi in /usr/local/lib/python3.10/dist-packages (from httpx<1,>=0.23.0->openai) (2024.7.4)\n",
            "Collecting httpcore==1.* (from httpx<1,>=0.23.0->openai)\n",
            "  Downloading httpcore-1.0.5-py3-none-any.whl.metadata (20 kB)\n",
            "Collecting h11<0.15,>=0.13 (from httpcore==1.*->httpx<1,>=0.23.0->openai)\n",
            "  Downloading h11-0.14.0-py3-none-any.whl.metadata (8.2 kB)\n",
            "Requirement already satisfied: annotated-types>=0.4.0 in /usr/local/lib/python3.10/dist-packages (from pydantic<3,>=1.9.0->openai) (0.7.0)\n",
            "Requirement already satisfied: pydantic-core==2.20.1 in /usr/local/lib/python3.10/dist-packages (from pydantic<3,>=1.9.0->openai) (2.20.1)\n",
            "Downloading openai-1.38.0-py3-none-any.whl (335 kB)\n",
            "\u001b[2K   \u001b[90m━━━━━━━━━━━━━━━━━━━━━━━━━━━━━━━━━━━━━━━━\u001b[0m \u001b[32m335.9/335.9 kB\u001b[0m \u001b[31m16.3 MB/s\u001b[0m eta \u001b[36m0:00:00\u001b[0m\n",
            "\u001b[?25hDownloading httpx-0.27.0-py3-none-any.whl (75 kB)\n",
            "\u001b[2K   \u001b[90m━━━━━━━━━━━━━━━━━━━━━━━━━━━━━━━━━━━━━━━━\u001b[0m \u001b[32m75.6/75.6 kB\u001b[0m \u001b[31m4.5 MB/s\u001b[0m eta \u001b[36m0:00:00\u001b[0m\n",
            "\u001b[?25hDownloading httpcore-1.0.5-py3-none-any.whl (77 kB)\n",
            "\u001b[2K   \u001b[90m━━━━━━━━━━━━━━━━━━━━━━━━━━━━━━━━━━━━━━━━\u001b[0m \u001b[32m77.9/77.9 kB\u001b[0m \u001b[31m5.5 MB/s\u001b[0m eta \u001b[36m0:00:00\u001b[0m\n",
            "\u001b[?25hDownloading h11-0.14.0-py3-none-any.whl (58 kB)\n",
            "\u001b[2K   \u001b[90m━━━━━━━━━━━━━━━━━━━━━━━━━━━━━━━━━━━━━━━━\u001b[0m \u001b[32m58.3/58.3 kB\u001b[0m \u001b[31m4.0 MB/s\u001b[0m eta \u001b[36m0:00:00\u001b[0m\n",
            "\u001b[?25hInstalling collected packages: h11, httpcore, httpx, openai\n",
            "Successfully installed h11-0.14.0 httpcore-1.0.5 httpx-0.27.0 openai-1.38.0\n"
          ]
        }
      ],
      "source": [
        "pip install openai\n"
      ]
    },
    {
      "cell_type": "code",
      "execution_count": null,
      "metadata": {
        "id": "yobf3bgwBobm"
      },
      "outputs": [],
      "source": []
    }
  ],
  "metadata": {
    "colab": {
      "provenance": []
    },
    "kernelspec": {
      "display_name": "Python 3",
      "name": "python3"
    },
    "language_info": {
      "name": "python"
    }
  },
  "nbformat": 4,
  "nbformat_minor": 0
}
